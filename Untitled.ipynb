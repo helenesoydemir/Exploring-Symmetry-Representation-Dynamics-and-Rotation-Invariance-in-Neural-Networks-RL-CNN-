{
 "cells": [
  {
   "cell_type": "code",
   "execution_count": 1,
   "id": "cf03f49a-8f1d-4c93-8c77-b0fe49088831",
   "metadata": {},
   "outputs": [
    {
     "ename": "AttributeError",
     "evalue": "'OrderEnforcing' object has no attribute 'get_frame'",
     "output_type": "error",
     "traceback": [
      "\u001b[0;31m---------------------------------------------------------------------------\u001b[0m",
      "\u001b[0;31mAttributeError\u001b[0m                            Traceback (most recent call last)",
      "Cell \u001b[0;32mIn[1], line 7\u001b[0m\n\u001b[1;32m      5\u001b[0m _ \u001b[38;5;241m=\u001b[39m env\u001b[38;5;241m.\u001b[39mreset()\n\u001b[1;32m      6\u001b[0m env\u001b[38;5;241m.\u001b[39mrender()\n\u001b[0;32m----> 7\u001b[0m \u001b[43menv\u001b[49m\u001b[38;5;241;43m.\u001b[39;49m\u001b[43mget_frame\u001b[49m()\n",
      "\u001b[0;31mAttributeError\u001b[0m: 'OrderEnforcing' object has no attribute 'get_frame'"
     ]
    }
   ],
   "source": [
    "import gymnasium as gym\n",
    "import minigrid\n",
    "\n",
    "env = gym.make('MiniGrid-GoToDoor-5x5-v0', render_mode=\"human\")\n",
    "_ = env.reset()\n",
    "env.render()\n",
    "env.get_frame()"
   ]
  },
  {
   "cell_type": "code",
   "execution_count": 3,
   "id": "8f9adaa8-5f8a-41df-b5fc-3daef76edb42",
   "metadata": {},
   "outputs": [
    {
     "ename": "AttributeError",
     "evalue": "'OrderEnforcing' object has no attribute 'get_frame'",
     "output_type": "error",
     "traceback": [
      "\u001b[0;31m---------------------------------------------------------------------------\u001b[0m",
      "\u001b[0;31mAttributeError\u001b[0m                            Traceback (most recent call last)",
      "Cell \u001b[0;32mIn[3], line 1\u001b[0m\n\u001b[0;32m----> 1\u001b[0m \u001b[43menv\u001b[49m\u001b[38;5;241;43m.\u001b[39;49m\u001b[43mget_frame\u001b[49m()\n",
      "\u001b[0;31mAttributeError\u001b[0m: 'OrderEnforcing' object has no attribute 'get_frame'"
     ]
    }
   ],
   "source": []
  }
 ],
 "metadata": {
  "kernelspec": {
   "display_name": "Python 3 (ipykernel)",
   "language": "python",
   "name": "python3"
  },
  "language_info": {
   "codemirror_mode": {
    "name": "ipython",
    "version": 3
   },
   "file_extension": ".py",
   "mimetype": "text/x-python",
   "name": "python",
   "nbconvert_exporter": "python",
   "pygments_lexer": "ipython3",
   "version": "3.10.18"
  }
 },
 "nbformat": 4,
 "nbformat_minor": 5
}
